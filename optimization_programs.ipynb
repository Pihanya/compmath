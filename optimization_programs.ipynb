{
 "cells": [
  {
   "cell_type": "code",
   "execution_count": 6,
   "metadata": {
    "ExecuteTime": {
     "end_time": "2020-02-20T02:33:43.162400Z",
     "start_time": "2020-02-20T02:33:43.157311Z"
    }
   },
   "outputs": [],
   "source": [
    "import time\n",
    "\n",
    "%matplotlib inline\n",
    "import numpy as np\n",
    "import matplotlib.pyplot as plt\n",
    "from scipy import stats\n",
    "\n",
    "plt.rcParams['figure.figsize'] = [14, 8]"
   ]
  },
  {
   "cell_type": "code",
   "execution_count": 2,
   "metadata": {
    "ExecuteTime": {
     "end_time": "2020-02-20T02:26:45.983515Z",
     "start_time": "2020-02-20T02:26:45.961493Z"
    }
   },
   "outputs": [],
   "source": [
    "# Поиск минимума функции методом квадратичной интерполяции (Метод Пауэлла)\n",
    "# f - функция\n",
    "# a - ограчение слева\n",
    "# b - ограничение справа\n",
    "# h - шаг по оси X\n",
    "# eps - максимальная погрешность по оси X\n",
    "# x1 - начальное значение X1 \n",
    "def square_interpolation(f, a, b, h, eps, x1=None):\n",
    "    if x1 is None:\n",
    "        if a + h > b:\n",
    "            if f(a) < f(b):\n",
    "                return (a, f(a))\n",
    "            else:\n",
    "                return (b, f(b))\n",
    "        x1 = a\n",
    "      \n",
    "    if x1 < a or x1 > b:\n",
    "        raise ValueError(f'Inapropriate x1: {x1}')\n",
    "    elif x1 + h > b:\n",
    "        if f(x1) < f(b):\n",
    "            return (x1, f(x1))\n",
    "        else:\n",
    "            return (b, f(b))\n",
    "    \n",
    "    x2 = x1 + h\n",
    "    f1, f2 = f(x1), f(x2)\n",
    "    if f1 > f2:\n",
    "        x3 = x1 + 2*h\n",
    "    elif f1 < f2:\n",
    "        x3 = x1 - h\n",
    "    \n",
    "    outbound = False\n",
    "    if x3 < a or x3 > b:\n",
    "        x3 = min(max(x3, a), b)\n",
    "        f3 = f(x3)\n",
    "        outbound = True\n",
    "    \n",
    "    f3 = f(x3)\n",
    "    if f1 < min(f2, f3):\n",
    "        x_min, f_min = x1, f1\n",
    "    elif f2 < min(f1, f3):\n",
    "        x_min, f_min = x2, f2\n",
    "    elif f3 < min(f1, f2):\n",
    "        x_min, f_min = x3, f3\n",
    "    else: # all fs equals\n",
    "        return square_interpolation(f, a, b, h, eps, x1=min(max(x2, x3), b))\n",
    "    \n",
    "    if outbound:\n",
    "        return (x_min, f_min)\n",
    "    \n",
    "    numerator = (x2**2 - x3**2)*f1 + (x3**2 - x1**2)*f2 + (x1**2 - x2**2)*f2\n",
    "    denominator = (x2 - x3)*f1 + (x3 - x1)*f2 + (x1 - x2)*f3\n",
    "    if denominator == 0:\n",
    "        if x1 == x_min:\n",
    "            return (x_min, f_min)\n",
    "        return square_interpolation(f, a, b, h, eps, x1=x_min)\n",
    "    \n",
    "    x_m = numerator/denominator\n",
    "    f_m = f(x_m)\n",
    "    \n",
    "    if abs(f_m - f_min) < eps:\n",
    "        return (x_m, f_m)\n",
    "    elif f_m < f_min:\n",
    "        return square_interpolation(f, a, b, h, eps, x1=x_m)\n",
    "    elif x1 != x_min:\n",
    "        return square_interpolation(f, a, b, h, eps, x1=x_min)\n",
    "    else:\n",
    "        return (x1, f1)"
   ]
  },
  {
   "cell_type": "code",
   "execution_count": 3,
   "metadata": {
    "ExecuteTime": {
     "end_time": "2020-02-20T02:26:46.005497Z",
     "start_time": "2020-02-20T02:26:45.995494Z"
    }
   },
   "outputs": [],
   "source": [
    "# Поиск минимума функции методом золотого сечения\n",
    "# f - функция\n",
    "# a - ограничение слева\n",
    "# b - ограничение справа\n",
    "# eps - максимальная погрешность по оси X\n",
    "def golden_section_search(f, a, b, eps):\n",
    "    PHI = (1 + 5**0.5) / 2\n",
    "    \n",
    "    x1, x2 = b - (b - a)/PHI, a + (b - a)/PHI\n",
    "    f1, f2 = f(x1), f(x2)\n",
    "        \n",
    "    if f1 >= f2:\n",
    "        a = x1\n",
    "    else:\n",
    "        b = x2\n",
    "    \n",
    "    if abs(b - a) < eps:\n",
    "        x = (a + b) / 2\n",
    "        fx = f(x)\n",
    "        return (x, f(x))\n",
    "    \n",
    "    return golden_section_search(f, a, b, eps)"
   ]
  },
  {
   "cell_type": "code",
   "execution_count": 4,
   "metadata": {
    "ExecuteTime": {
     "end_time": "2020-02-20T02:26:46.230547Z",
     "start_time": "2020-02-20T02:26:46.223550Z"
    }
   },
   "outputs": [],
   "source": [
    "def debug_golden_section_search(f, a, b, eps, debug=False, r=3):\n",
    "    PHI = (1 + 5**0.5) / 2\n",
    "    \n",
    "    x1, x2 = b - (b - a)/PHI, a + (b - a)/PHI\n",
    "    f1, f2 = f(x1), f(x2)\n",
    "    \n",
    "    print(f'a: {round(a, r)}, b: {round(b, r)}')\n",
    "    print(f'(x1, f1): ({round(x1, r)}, {round(f1, r)})')\n",
    "    print(f'(x2, f2): ({round(x2, r)}, {round(f2, r)})')\n",
    "        \n",
    "    if f1 >= f2:\n",
    "        print(f'f1 >= f2 then a = {round(x1, r)} (x1)')\n",
    "        a = x1\n",
    "    else:\n",
    "        print(f'f1 < f2 then b = {round(x2, r)} (x2)')\n",
    "        b = x2\n",
    "    \n",
    "    print(f'|b - a|: {round(abs(b - a), r)}, eps: {eps}')\n",
    "    if abs(b - a) < eps:\n",
    "        x = (a + b) / 2\n",
    "        fx = f(x)\n",
    "        print(f'|b - a| < eps then x: {round(x, r)}, f(x): {round(fx, r)} ')\n",
    "        return (x, f(x))\n",
    "    print('======')\n",
    "    \n",
    "    return golden_section_search(f, a, b, eps, debug, r)"
   ]
  },
  {
   "cell_type": "code",
   "execution_count": 146,
   "metadata": {
    "ExecuteTime": {
     "end_time": "2020-02-20T02:40:39.614854Z",
     "start_time": "2020-02-20T02:40:39.609867Z"
    }
   },
   "outputs": [],
   "source": [
    "# Функция f(x) = x^4/4 + x^2 - 8x + 12\n",
    "f = lambda x: 0.25*x**4 + x**2 - 8*x + 12\n",
    "# Промежуток поиска экстремума [a, b]\n",
    "a, b = (0, 2)\n",
    "# Точность вычислений\n",
    "eps = 0.005"
   ]
  },
  {
   "cell_type": "code",
   "execution_count": 149,
   "metadata": {
    "ExecuteTime": {
     "end_time": "2020-02-20T02:41:29.282171Z",
     "start_time": "2020-02-20T02:41:29.276201Z"
    }
   },
   "outputs": [
    {
     "name": "stdout",
     "output_type": "stream",
     "text": [
      "0.0\n",
      "3.373390492089669\n"
     ]
    }
   ],
   "source": [
    "# Производная исходной функции f'(x) = x^3 + 2x - 8\n",
    "fp = lambda x: x**3 + 2*x - 8\n",
    "# Точка, в которой производная равна нулю (найдена эксперементальным путем)\n",
    "xp = 1.6702446969627331\n",
    "\n",
    "print(fp(xp))\n",
    "print(f(xp))"
   ]
  },
  {
   "cell_type": "code",
   "execution_count": 147,
   "metadata": {
    "ExecuteTime": {
     "end_time": "2020-02-20T02:40:40.511174Z",
     "start_time": "2020-02-20T02:40:40.505174Z"
    }
   },
   "outputs": [
    {
     "name": "stdout",
     "output_type": "stream",
     "text": [
      "Результат нахождения минимума методом квадратичной интерполяции\n",
      "X: 1.6700000000000013, Y: 3.3733908025000012\n",
      "Время выполнения: 0.0μs\n"
     ]
    }
   ],
   "source": [
    "cache_time = time.process_time_ns()\n",
    "x1, y1 = square_interpolation(f, a, b, eps, eps)\n",
    "t1 = time.process_time_ns() - cache_time\n",
    "print('Результат нахождения минимума методом квадратичной интерполяции')\n",
    "print(f'X: {x1}, Y: {y1}')\n",
    "print(f'Время выполнения: {t1/1000}μs')"
   ]
  },
  {
   "cell_type": "code",
   "execution_count": 148,
   "metadata": {
    "ExecuteTime": {
     "end_time": "2020-02-20T02:40:41.192632Z",
     "start_time": "2020-02-20T02:40:41.187607Z"
    }
   },
   "outputs": [
    {
     "name": "stdout",
     "output_type": "stream",
     "text": [
      "Результат нахождения минимума методом золотого сечения\n",
      "X: 1.6699233212997366, Y: 3.3733910275092533\n",
      "Время выполнения: 0.0μs\n"
     ]
    }
   ],
   "source": [
    "cache_time = time.process_time_ns()\n",
    "x2, y2 = golden_section_search(f, a, b, eps)\n",
    "t2 = time.process_time_ns() - cache_time\n",
    "\n",
    "print('Результат нахождения минимума методом золотого сечения')\n",
    "print(f'X: {x2}, Y: {y2}')\n",
    "print(f'Время выполнения: {t2/1000}μs')"
   ]
  },
  {
   "cell_type": "code",
   "execution_count": 77,
   "metadata": {
    "ExecuteTime": {
     "end_time": "2020-02-13T02:01:20.999488Z",
     "start_time": "2020-02-13T02:01:20.779240Z"
    },
    "scrolled": false
   },
   "outputs": [
    {
     "name": "stdout",
     "output_type": "stream",
     "text": [
      "a: 0, b: 2\n",
      "(x1, f1): (0.7639, 6.5573)\n",
      "(x2, f2): (1.2361, 4.2229)\n",
      "f1 >= f2 then a = 0.7639 (x1)\n",
      "|b - a|: 1.2361, eps: 0.005\n",
      "======\n",
      "a: 0.7639, b: 2\n",
      "(x1, f1): (1.2361, 4.2229)\n",
      "(x2, f2): (1.5279, 3.4738)\n",
      "f1 >= f2 then a = 1.2361 (x1)\n",
      "|b - a|: 0.7639, eps: 0.005\n",
      "======\n",
      "a: 1.2361, b: 2\n",
      "(x1, f1): (1.5279, 3.4738)\n",
      "(x2, f2): (1.7082, 3.381)\n",
      "f1 >= f2 then a = 1.5279 (x1)\n",
      "|b - a|: 0.4721, eps: 0.005\n",
      "======\n",
      "a: 1.5279, b: 2\n",
      "(x1, f1): (1.7082, 3.381)\n",
      "(x2, f2): (1.8197, 3.4948)\n",
      "f1 < f2 then b = 1.8197 (x2)\n",
      "|b - a|: 0.2918, eps: 0.005\n",
      "======\n",
      "a: 1.5279, b: 1.8197\n",
      "(x1, f1): (1.6393, 3.3783)\n",
      "(x2, f2): (1.7082, 3.381)\n",
      "f1 < f2 then b = 1.7082 (x2)\n",
      "|b - a|: 0.1803, eps: 0.005\n",
      "======\n",
      "a: 1.5279, b: 1.7082\n",
      "(x1, f1): (1.5967, 3.4007)\n",
      "(x2, f2): (1.6393, 3.3783)\n",
      "f1 >= f2 then a = 1.5967 (x1)\n",
      "|b - a|: 0.1115, eps: 0.005\n",
      "======\n",
      "a: 1.5967, b: 1.7082\n",
      "(x1, f1): (1.6393, 3.3783)\n",
      "(x2, f2): (1.6656, 3.3735)\n",
      "f1 >= f2 then a = 1.6393 (x1)\n",
      "|b - a|: 0.0689, eps: 0.005\n",
      "======\n",
      "a: 1.6393, b: 1.7082\n",
      "(x1, f1): (1.6656, 3.3735)\n",
      "(x2, f2): (1.6819, 3.3741)\n",
      "f1 < f2 then b = 1.6819 (x2)\n",
      "|b - a|: 0.0426, eps: 0.005\n",
      "======\n",
      "a: 1.6393, b: 1.6819\n",
      "(x1, f1): (1.6556, 3.3745)\n",
      "(x2, f2): (1.6656, 3.3735)\n",
      "f1 >= f2 then a = 1.6556 (x1)\n",
      "|b - a|: 0.0263, eps: 0.005\n",
      "======\n",
      "a: 1.6556, b: 1.6819\n",
      "(x1, f1): (1.6656, 3.3735)\n",
      "(x2, f2): (1.6718, 3.3734)\n",
      "f1 >= f2 then a = 1.6656 (x1)\n",
      "|b - a|: 0.0163, eps: 0.005\n",
      "======\n",
      "a: 1.6656, b: 1.6819\n",
      "(x1, f1): (1.6718, 3.3734)\n",
      "(x2, f2): (1.6757, 3.3735)\n",
      "f1 < f2 then b = 1.6757 (x2)\n",
      "|b - a|: 0.01, eps: 0.005\n",
      "======\n",
      "a: 1.6656, b: 1.6757\n",
      "(x1, f1): (1.6695, 3.3734)\n",
      "(x2, f2): (1.6718, 3.3734)\n",
      "f1 < f2 then b = 1.6718 (x2)\n",
      "|b - a|: 0.0062, eps: 0.005\n",
      "======\n",
      "a: 1.6656, b: 1.6718\n",
      "(x1, f1): (1.668, 3.3734)\n",
      "(x2, f2): (1.6695, 3.3734)\n",
      "f1 >= f2 then a = 1.668 (x1)\n",
      "|b - a|: 0.0038, eps: 0.005\n",
      "|b - a| < eps then x: 1.6699, f(x): 3.3734 \n"
     ]
    },
    {
     "name": "stderr",
     "output_type": "stream",
     "text": [
      "C:\\ProgramData\\Anaconda3\\lib\\site-packages\\ipykernel_launcher.py:9: DeprecationWarning: object of type <class 'float'> cannot be safely interpreted as an integer.\n",
      "  if __name__ == '__main__':\n"
     ]
    },
    {
     "data": {
      "text/plain": [
       "[None]"
      ]
     },
     "execution_count": 77,
     "metadata": {},
     "output_type": "execute_result"
    },
    {
     "data": {
      "image/png": "[encoded data removed]",
      "text/plain": [
       "<Figure size 1008x576 with 1 Axes>"
      ]
     },
     "metadata": {
      "needs_background": "light"
     },
     "output_type": "display_data"
    }
   ],
   "source": [
    "min_x, min_f = golden_section_search(f, a, b, eps, True, 4)\n",
    "#min_x, min_f = square_interpolation(f, a, b, eps, eps)\n",
    "half_interval = (b - a)/2\n",
    "\n",
    "graph_l = -half_interval + min_x\n",
    "graph_r = half_interval + min_x\n",
    "pts_amount = abs(graph_r - graph_l) / eps\n",
    "\n",
    "x = np.linspace(-half_interval + min_x, half_interval + min_x, pts_amount)\n",
    "y = np.array([f(t) for t in x])\n",
    "y_min = np.array([min_f for t in x])\n",
    "\n",
    "#plt.title(func_str)\n",
    "\n",
    "dot_eps = 0.0001; n = 50\n",
    "lines = plt.plot(x, y, np.array([min_x + (i - n/2)*dot_eps for i in range(n)]), np.array([min_f for i in range(n)]))\n",
    "\n",
    "plt.setp(lines[0], linewidth=1)\n",
    "plt.setp(lines[1], linewidth=4)"
   ]
  }
 ],
 "metadata": {
  "kernelspec": {
   "display_name": "Python 3",
   "language": "python",
   "name": "python3"
  },
  "language_info": {
   "codemirror_mode": {
    "name": "ipython",
    "version": 3
   },
   "file_extension": ".py",
   "mimetype": "text/x-python",
   "name": "python",
   "nbconvert_exporter": "python",
   "pygments_lexer": "ipython3",
   "version": "3.7.4"
  },
  "latex_envs": {
   "LaTeX_envs_menu_present": true,
   "autoclose": false,
   "autocomplete": true,
   "bibliofile": "biblio.bib",
   "cite_by": "apalike",
   "current_citInitial": 1,
   "eqLabelWithNumbers": true,
   "eqNumInitial": 1,
   "hotkeys": {
    "equation": "Ctrl-E",
    "itemize": "Ctrl-I"
   },
   "labels_anchors": false,
   "latex_user_defs": false,
   "report_style_numbering": false,
   "user_envs_cfg": false
  },
  "toc": {
   "base_numbering": 1,
   "nav_menu": {},
   "number_sections": true,
   "sideBar": true,
   "skip_h1_title": false,
   "title_cell": "Table of Contents",
   "title_sidebar": "Contents",
   "toc_cell": false,
   "toc_position": {},
   "toc_section_display": true,
   "toc_window_display": false
  },
  "varInspector": {
   "cols": {
    "lenName": 16,
    "lenType": 16,
    "lenVar": 40
   },
   "kernels_config": {
    "python": {
     "delete_cmd_postfix": "",
     "delete_cmd_prefix": "del ",
     "library": "var_list.py",
     "varRefreshCmd": "print(var_dic_list())"
    },
    "r": {
     "delete_cmd_postfix": ") ",
     "delete_cmd_prefix": "rm(",
     "library": "var_list.r",
     "varRefreshCmd": "cat(var_dic_list()) "
    }
   },
   "types_to_exclude": [
    "module",
    "function",
    "builtin_function_or_method",
    "instance",
    "_Feature"
   ],
   "window_display": false
  }
 },
 "nbformat": 4,
 "nbformat_minor": 2
}
